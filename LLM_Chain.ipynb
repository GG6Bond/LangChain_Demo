{
 "cells": [
  {
   "cell_type": "code",
   "execution_count": 1,
   "id": "edc283c1",
   "metadata": {},
   "outputs": [
    {
     "name": "stdout",
     "output_type": "stream",
     "text": [
      "\n",
      "     active environment : langchain\n",
      "    active env location : D:\\Dev\\anaconda3\\envs\\langchain\n",
      "            shell level : 2\n",
      "       user config file : C:\\Users\\LJT\\.condarc\n",
      " populated config files : C:\\Users\\LJT\\.condarc\n",
      "          conda version : 23.7.2\n",
      "    conda-build version : 3.26.0\n",
      "         python version : 3.11.4.final.0\n",
      "       virtual packages : __archspec=1=x86_64\n",
      "                          __cuda=12.2=0\n",
      "                          __win=0=0\n",
      "       base environment : D:\\Dev\\anaconda3  (read only)\n",
      "      conda av data dir : D:\\Dev\\anaconda3\\etc\\conda\n",
      "  conda av metadata url : None\n",
      "           channel URLs : https://repo.anaconda.com/pkgs/main/win-64\n",
      "                          https://repo.anaconda.com/pkgs/main/noarch\n",
      "                          https://repo.anaconda.com/pkgs/r/win-64\n",
      "                          https://repo.anaconda.com/pkgs/r/noarch\n",
      "                          https://repo.anaconda.com/pkgs/msys2/win-64\n",
      "                          https://repo.anaconda.com/pkgs/msys2/noarch\n",
      "                          https://mirrors.tuna.tsinghua.edu.cn/anaconda/pkgs/main/win-64\n",
      "                          https://mirrors.tuna.tsinghua.edu.cn/anaconda/pkgs/main/noarch\n",
      "          package cache : D:\\Dev\\anaconda3\\pkgs\n",
      "                          C:\\Users\\LJT\\.conda\\pkgs\n",
      "                          C:\\Users\\LJT\\AppData\\Local\\conda\\conda\\pkgs\n",
      "       envs directories : C:\\Users\\LJT\\.conda\\envs\n",
      "                          D:\\Dev\\anaconda3\\envs\n",
      "                          C:\\Users\\LJT\\AppData\\Local\\conda\\conda\\envs\n",
      "               platform : win-64\n",
      "             user-agent : conda/23.7.2 requests/2.31.0 CPython/3.11.4 Windows/10 Windows/10.0.22631\n",
      "          administrator : False\n",
      "             netrc file : None\n",
      "           offline mode : False\n",
      "\n",
      "\n",
      "\n",
      "Note: you may need to restart the kernel to use updated packages.\n"
     ]
    }
   ],
   "source": [
    "conda info "
   ]
  },
  {
   "cell_type": "code",
   "execution_count": 2,
   "id": "8bf5b97b",
   "metadata": {},
   "outputs": [],
   "source": [
    "from langchain_community.llms import Ollama\n",
    "llm = Ollama(model=\"llama2\")"
   ]
  },
  {
   "cell_type": "code",
   "execution_count": 3,
   "id": "20a1c862",
   "metadata": {
    "scrolled": false
   },
   "outputs": [
    {
     "data": {
      "text/plain": [
       "\"LangSmith is a tool that can assist with testing by providing a range of features and functionalities. Here are some ways in which LangSmith can help with testing:\\n\\n1. Automated Testing: LangSmith provides an automated testing feature that allows you to create and run tests on your codebase. This feature enables you to write test cases and execute them automatically, saving time and effort compared to manual testing.\\n2. Code Coverage Analysis: LangSmith's code coverage analysis feature helps you identify areas of your code that are not being tested. This feature provides a report card-style view of your code coverage, highlighting the areas that need more testing attention.\\n3. Test Case Management: LangSmith's test case management feature allows you to create, organize, and run tests in a structured manner. You can create test cases based on your codebase and categorize them according to their functionality or complexity.\\n4. Test Data Generation: LangSmith's test data generation feature helps you generate test data automatically, reducing the time and effort required for manual testing. This feature is particularly useful when working with large datasets or complex test scenarios.\\n5. Integration Testing: LangSmith provides integration testing features that enable you to test the interactions between different components of your codebase. You can create test cases that exercise these interactions and ensure that your code functions correctly in a integrated manner.\\n6. Performance Testing: LangSmith's performance testing feature allows you to measure the performance of your code under various loads and conditions. This feature helps you identify bottlenecks and optimize your code for better performance.\\n7. Debugging: LangSmith's debugging features help you identify and fix issues in your code more efficiently. You can set breakpoints, inspect variables, and execute your code line by line to debug it effectively.\\n8. Continuous Integration/Continuous Deployment (CI/CD): LangSmith integrates with popular CI/CD tools like Jenkins, Travis CI, CircleCI, and AppVeyor. This integration enables you to automate your testing process, making it easier to deploy your code changes to production quickly and efficiently.\\n9. Customization: LangSmith is highly customizable, allowing you to tailor the tool to your specific testing needs. You can create custom test cases, test suites, and reporting templates to fit your team's workflow and testing requirements.\\n10. Integration with other tools: LangSmith integrates with popular development tools like Visual Studio Code, IntelliJ IDEA, PyCharm, and Eclipse. This integration enables you to use LangSmith in conjunction with these tools for a more streamlined development and testing experience.\\n\\nBy leveraging these features, LangSmith can help you write better tests, reduce the time spent on testing, and improve your overall development process.\""
      ]
     },
     "execution_count": 3,
     "metadata": {},
     "output_type": "execute_result"
    }
   ],
   "source": [
    "llm.invoke(\"how can langsmith help with testing?\")"
   ]
  },
  {
   "cell_type": "code",
   "execution_count": 4,
   "id": "5df19e79",
   "metadata": {},
   "outputs": [],
   "source": [
    "from langchain_core.prompts import ChatPromptTemplate\n",
    "prompt = ChatPromptTemplate.from_messages([\n",
    "    (\"system\", \"You are world class technical documentation writer.\"),\n",
    "    (\"user\", \"{input}\")\n",
    "])"
   ]
  },
  {
   "cell_type": "code",
   "execution_count": 5,
   "id": "f2ab40d0",
   "metadata": {},
   "outputs": [],
   "source": [
    "chain = prompt | llm "
   ]
  },
  {
   "cell_type": "code",
   "execution_count": 6,
   "id": "7048649f",
   "metadata": {},
   "outputs": [
    {
     "data": {
      "text/plain": [
       "\"\\nAh, an excellent question! As a world-class technical documentation writer, I must say that LangSmith is a fantastic tool for testing purposes. Here are some ways in which LangSmith can help with testing:\\n\\n1. Automated Testing: LangSmith's AI-powered language model can be used to automate testing processes, such as testing for grammar and spelling errors, consistency of tone and style, and adherence to documentation standards. This can save time and resources compared to manual testing methods.\\n2. Content Generation: LangSmith can generate test content, such as test cases, test scripts, and test data, based on the technical documentation it has been trained on. This can help ensure that tests are comprehensive and cover all necessary functionality.\\n3. Testing for Complexity: LangSmith's ability to understand complex concepts and relationships within technical documentation makes it an ideal tool for testing the complexity of documentation. It can identify areas where the documentation may be lacking or unclear, and provide suggestions for improvement.\\n4. Consistency Checking: LangSmith can check for consistency in formatting, styling, and overall structure throughout the documentation. This helps ensure that the documentation is uniform and easy to navigate.\\n5. Error Detection: LangSmith's AI-powered language model can detect errors and inconsistencies in the documentation, such as missing or incorrect information, broken links, or unresolved errors. It can also identify areas where the documentation may be outdated or incomplete.\\n6. Best Practices Checking: LangSmith can check technical documentation against a set of predefined best practices, ensuring that it meets industry standards and is of high quality. This helps to improve the overall quality of the documentation and ensure that it is effective in communicating information to users.\\n7. Accessibility Auditing: LangSmith can perform accessibility audits on technical documentation to identify any issues or inconsistencies that may affect the readability and usability of the content for users with disabilities. This helps ensure that the documentation is accessible to everyone, regardless of their abilities.\\n\\nIn summary, LangSmith's AI-powered language model can greatly assist in testing technical documentation by automating various tasks, generating test content, checking for complexity and consistency, detecting errors, and ensuring compliance with best practices and accessibility standards.\""
      ]
     },
     "execution_count": 6,
     "metadata": {},
     "output_type": "execute_result"
    }
   ],
   "source": [
    "chain.invoke({\"input\": \"how can langsmith help with testing?\"})"
   ]
  },
  {
   "cell_type": "markdown",
   "id": "607c8317",
   "metadata": {},
   "source": [
    "The output of a ChatModel (and therefore, of this chain) is a message. However, it's often much more convenient to work with strings. Let's add a simple output parser to convert the chat message to a string."
   ]
  },
  {
   "cell_type": "code",
   "execution_count": 7,
   "id": "6c4dacfe",
   "metadata": {},
   "outputs": [],
   "source": [
    "from langchain_core.output_parsers import StrOutputParser\n",
    "\n",
    "output_parser = StrOutputParser()"
   ]
  },
  {
   "cell_type": "markdown",
   "id": "9cfefe67",
   "metadata": {},
   "source": [
    "We can now add this to the previous chain:"
   ]
  },
  {
   "cell_type": "code",
   "execution_count": 8,
   "id": "a109042a",
   "metadata": {},
   "outputs": [],
   "source": [
    "chain = prompt | llm | output_parser"
   ]
  },
  {
   "cell_type": "markdown",
   "id": "7538532a",
   "metadata": {},
   "source": [
    "We can now invoke it and ask the same question. The answer will now be a string (rather than a ChatMessage)."
   ]
  },
  {
   "cell_type": "code",
   "execution_count": 9,
   "id": "f7b16dbf",
   "metadata": {},
   "outputs": [
    {
     "data": {
      "text/plain": [
       "\"\\nAs a world-class technical documentation writer, I must say that Langsmith is a versatile tool that can greatly aid in the testing process. Here are some ways Langsmith can help:\\n\\n1. Automated Testing: Langsmith's AI-powered engine can automatically generate test cases based on your system's documentation, saving you time and effort. This allows you to focus on other aspects of the testing process, such as analyzing results and identifying areas for improvement.\\n2. Consistent Testing: Langsmith's ability to analyze and understand your system's documentation ensures that tests are consistent and cover all necessary functionality. This helps to eliminate the risk of missing critical features or corners cases, which can lead to errors or failures in the testing process.\\n3. Improved Test Coverage: By analyzing your system's documentation, Langsmith can identify areas that require additional testing, ensuring that all aspects of the system are thoroughly tested and validated. This leads to increased test coverage and a higher level of confidence in the accuracy of the tests.\\n4. Faster Testing Cycles: With Langsmith's automated testing capabilities, you can significantly reduce the time it takes to conduct functional testing. This allows you to complete testing cycles faster, enabling you to deliver your product or service to market more quickly.\\n5. Improved Test Accuracy: Langsmith's AI-powered engine can identify and flag any potential errors or inconsistencies in the testing process, ensuring that tests are accurate and reliable. This leads to increased confidence in the results of the testing process and reduces the likelihood of errors or failures.\\n6. Better Collaboration: Langsmith's platform allows multiple stakeholders to collaborate and work together on testing projects. This enables better communication, coordination, and collaboration among team members, leading to improved testing outcomes.\\n7. Integration with Existing Tools: Langsmith can integrate with your existing testing tools and processes, making it easy to incorporate into your testing workflow. This ensures a seamless integration process and reduces the need for additional training or investment in new tools.\\n\\nIn summary, Langsmith is an incredibly valuable tool that can significantly improve the testing process by automating tasks, improving test coverage, reducing testing times, and increasing test accuracy. By leveraging its AI-powered capabilities, you can streamline your testing workflow and deliver high-quality products or services to market faster.\""
      ]
     },
     "execution_count": 9,
     "metadata": {},
     "output_type": "execute_result"
    }
   ],
   "source": [
    "chain.invoke({\"input\": \"how can langsmith help with testing?\"})"
   ]
  },
  {
   "cell_type": "code",
   "execution_count": null,
   "id": "c51ce390",
   "metadata": {},
   "outputs": [],
   "source": []
  }
 ],
 "metadata": {
  "kernelspec": {
   "display_name": "Python 3 (ipykernel)",
   "language": "python",
   "name": "python3"
  },
  "language_info": {
   "codemirror_mode": {
    "name": "ipython",
    "version": 3
   },
   "file_extension": ".py",
   "mimetype": "text/x-python",
   "name": "python",
   "nbconvert_exporter": "python",
   "pygments_lexer": "ipython3",
   "version": "3.9.0"
  }
 },
 "nbformat": 4,
 "nbformat_minor": 5
}
